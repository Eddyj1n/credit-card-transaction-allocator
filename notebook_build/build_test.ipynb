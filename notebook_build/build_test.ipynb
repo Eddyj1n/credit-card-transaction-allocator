{
 "cells": [
  {
   "cell_type": "code",
   "execution_count": 17,
   "metadata": {},
   "outputs": [
    {
     "name": "stderr",
     "output_type": "stream",
     "text": [
      "/Users/Eddy/opt/anaconda3/lib/python3.9/site-packages/fuzzywuzzy/fuzz.py:11: UserWarning: Using slow pure-python SequenceMatcher. Install python-Levenshtein to remove this warning\n",
      "  warnings.warn('Using slow pure-python SequenceMatcher. Install python-Levenshtein to remove this warning')\n"
     ]
    }
   ],
   "source": [
    "import pandas as pd \n",
    "import numpy as np \n",
    "import getpass \n",
    "from fuzzywuzzy import process "
   ]
  },
  {
   "cell_type": "code",
   "execution_count": 22,
   "metadata": {},
   "outputs": [],
   "source": [
    "# Grab the username of the system \n",
    "username = getpass.getuser()\n",
    "\n",
    "# Read in transaction data \n",
    "df = pd.read_csv(f\"/Users/{username}/Desktop/{username} Documents/Credit card/12-May-2024.csv\", header= None)\n",
    "\n",
    "# Rename columns \n",
    "df.columns = [\"date\", \"value\", \"desc\"]\n",
    "\n",
    "# List of suburb names in Sydney and Melbourne, Australia (you can replace this with a more comprehensive list)\n",
    "sydney_suburbs = [\n",
    "    \"SYDNEY\", \"BARANGAROO\", \"CAMPERDOWN\", \"NORTH STRATHFIELD\", \"SURRY HILLS\",\n",
    "    \"BONDI\", \"SYDNEY OLYMPIC PARK\", \"RHODES\", \"NEWTOWN\", \"ENMORE\", \"CONCORD\",\n",
    "    \"BURWOOD\", \"REDFERN\", \"ROZELLE\", \"MARRICKVILLE\", \"LIDCOMBE\", \"STRATHFIELD\",\n",
    "    \"WEST RYDE\", \"EASTWOOD\", \"RYDE\", \"ALEXANDRIA\", \"HOMEBUSH\"\n",
    "]\n",
    "\n",
    "melbourne_suburbs = [\n",
    "    \"MELBOURNE\", \"SOUTH YARRA\", \"FITZROY\", \"RICHMOND\", \"BOX HILL\", \"HAWTHORN\",\n",
    "    \"KEW\", \"DONCASTER\", \"NUNAWADING\", \"BALWYN\", \"BALWYN NORTH\", \"MENTONE\", \"MULGRAVE\"\n",
    "]\n",
    "\n",
    "def extract_location(text, suburbs):\n",
    "    matches = process.extract(text, suburbs, limit=1)\n",
    "    if matches and matches[0][1] >= 80:  # Set a threshold for the match score\n",
    "        return matches[0][0]\n",
    "    return \"online\"  # Return \"online\" if no match is found or the match score is below the threshold\n",
    "\n",
    "# Apply the extract_location function to the \"desc\" column for Sydney suburbs\n",
    "df[\"location\"] = df[\"desc\"].apply(lambda x: extract_location(x, sydney_suburbs + melbourne_suburbs))\n",
    "\n",
    "# Create a new column \"is_sydney\" and set it to 1 for rows containing a Sydney suburb, 0 otherwise\n",
    "df[\"is_sydney\"] = df[\"location\"].apply(lambda x: 1 if x in sydney_suburbs else 0)"
   ]
  }
 ],
 "metadata": {
  "kernelspec": {
   "display_name": "Python 3",
   "language": "python",
   "name": "python3"
  },
  "language_info": {
   "codemirror_mode": {
    "name": "ipython",
    "version": 3
   },
   "file_extension": ".py",
   "mimetype": "text/x-python",
   "name": "python",
   "nbconvert_exporter": "python",
   "pygments_lexer": "ipython3",
   "version": "3.9.13"
  }
 },
 "nbformat": 4,
 "nbformat_minor": 2
}
